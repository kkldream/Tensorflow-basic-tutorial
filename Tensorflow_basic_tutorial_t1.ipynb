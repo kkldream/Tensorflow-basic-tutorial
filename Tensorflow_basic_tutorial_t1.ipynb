{
  "cells": [
    {
      "cell_type": "markdown",
      "metadata": {
        "id": "F-QU39znGDI8"
      },
      "source": [
        "# 搭建最小的神經網路"
      ]
    },
    {
      "cell_type": "markdown",
      "metadata": {
        "id": "lXfzfgzVFHEw"
      },
      "source": [
        "Keras官方文檔：https://keras.io/api/\n",
        "\n",
        "---"
      ]
    },
    {
      "cell_type": "markdown",
      "metadata": {
        "id": "T5JboZo98SZD"
      },
      "source": [
        "# 匯入函式庫"
      ]
    },
    {
      "cell_type": "code",
      "execution_count": null,
      "metadata": {
        "id": "NAITXK5WZXh7"
      },
      "outputs": [],
      "source": [
        "import numpy as np\n",
        "import tensorflow as tf\n",
        "from tensorflow import keras\n",
        "from tensorflow.keras import layers, optimizers, losses, callbacks\n",
        "from tensorflow.keras.utils import plot_model\n",
        "from IPython.display import Image\n",
        "from tensorflow.keras.models import load_model\n",
        "import matplotlib.pyplot as plt"
      ]
    },
    {
      "cell_type": "markdown",
      "metadata": {
        "id": "QpB8Z7zF8UV_"
      },
      "source": [
        "# 建立訓練資料"
      ]
    },
    {
      "cell_type": "markdown",
      "metadata": {
        "id": "Xt7n_AzrCEWl"
      },
      "source": [
        "建立資料"
      ]
    },
    {
      "cell_type": "code",
      "execution_count": null,
      "metadata": {
        "id": "bPzZUHtpdKnc"
      },
      "outputs": [],
      "source": [
        "train_num = 800\n",
        "x_train = np.random.rand(train_num) * 2 - 1\n",
        "y_train = x_train * -1\n",
        "val_num = 200\n",
        "x_val = np.random.rand(val_num) * 2 - 1\n",
        "y_val = x_val * -1"
      ]
    },
    {
      "cell_type": "markdown",
      "metadata": {
        "id": "9nLM59TkCBj0"
      },
      "source": [
        "圖表顯示資料"
      ]
    },
    {
      "cell_type": "code",
      "execution_count": null,
      "metadata": {
        "id": "s2kr0rUKCAoI"
      },
      "outputs": [],
      "source": [
        "plt.subplot(211)\n",
        "plt.plot(x_train[:30], color='r', label='x_val')\n",
        "plt.plot(y_train[:30], color='b', label='y_val')\n",
        "plt.legend()\n",
        "plt.subplot(212)\n",
        "plt.plot(x_val[:30], color='r', label='x_val')\n",
        "plt.plot(y_val[:30], color='b', label='y_val')\n",
        "plt.legend()\n",
        "plt.show()"
      ]
    },
    {
      "cell_type": "markdown",
      "metadata": {
        "id": "gpQLQmKa_F77"
      },
      "source": [
        "# 建立神經網路模型"
      ]
    },
    {
      "cell_type": "markdown",
      "metadata": {
        "id": "vbPzyFn5ERFw"
      },
      "source": [
        "Keras官方文檔 - layers API：https://keras.io/api/layers/"
      ]
    },
    {
      "cell_type": "code",
      "execution_count": null,
      "metadata": {
        "id": "D06w-8Ct7iBM"
      },
      "outputs": [],
      "source": [
        "model = tf.keras.models.Sequential([\n",
        "  layers.Input(shape=(1,)),\n",
        "  layers.Dense(1, activation=\"linear\") # 等同於 layers.Dense(1)\n",
        "  # layers.Dense(1, activation=\"relu\")\n",
        "  # layers.Dense(1, activation=\"tanh\")\n",
        "])\n",
        "model.compile(optimizer=\"adam\", loss=\"mse\")"
      ]
    },
    {
      "cell_type": "markdown",
      "metadata": {
        "id": "gu3r8OTeDUWv"
      },
      "source": [
        "查看模型結構"
      ]
    },
    {
      "cell_type": "code",
      "execution_count": null,
      "metadata": {
        "id": "2Z_mdxon_m1O"
      },
      "outputs": [],
      "source": [
        "model.summary()"
      ]
    },
    {
      "cell_type": "markdown",
      "metadata": {
        "id": "rYiHy7GFDTuJ"
      },
      "source": [
        "查看模型圖形化結構"
      ]
    },
    {
      "cell_type": "code",
      "execution_count": null,
      "metadata": {
        "id": "wvMByMbfXuld"
      },
      "outputs": [],
      "source": [
        "plot_model(model, show_shapes=True)"
      ]
    },
    {
      "cell_type": "markdown",
      "metadata": {
        "id": "VSlh8EOxDQzY"
      },
      "source": [
        "查看訓練前的權重"
      ]
    },
    {
      "cell_type": "code",
      "execution_count": null,
      "metadata": {
        "id": "xd9uAfwFVRar"
      },
      "outputs": [],
      "source": [
        "model.get_weights()"
      ]
    },
    {
      "cell_type": "markdown",
      "metadata": {
        "id": "dIt3stk__2S2"
      },
      "source": [
        "# 開始訓練"
      ]
    },
    {
      "cell_type": "markdown",
      "metadata": {
        "id": "RzMIVMwCCqLw"
      },
      "source": [
        "Keras官方文檔 - ModelCheckpoint：https://keras.io/api/callbacks/model_checkpoint/"
      ]
    },
    {
      "cell_type": "code",
      "execution_count": null,
      "metadata": {
        "id": "I7uyydCHeKjb"
      },
      "outputs": [],
      "source": [
        "trainHistory = model.fit(\n",
        "  x_train, y_train,\n",
        "  batch_size=32,\n",
        "  epochs=10000,\n",
        "  validation_data=(x_val, y_val),\n",
        "  callbacks=[\n",
        "    callbacks.EarlyStopping(monitor=\"val_loss\", patience=10, verbose=1, mode=\"auto\")\n",
        "  ]\n",
        ")"
      ]
    },
    {
      "cell_type": "markdown",
      "metadata": {
        "id": "bhuvIAyRAALQ"
      },
      "source": [
        "# 訓練結果"
      ]
    },
    {
      "cell_type": "markdown",
      "metadata": {
        "id": "PpzSqIi4DG1T"
      },
      "source": [
        "查看訓練後的權重變化"
      ]
    },
    {
      "cell_type": "code",
      "execution_count": null,
      "metadata": {
        "id": "ERQlbLcsWDwF"
      },
      "outputs": [],
      "source": [
        "model.get_weights()"
      ]
    },
    {
      "cell_type": "markdown",
      "metadata": {
        "id": "4WKVPluRDK94"
      },
      "source": [
        "圖表顯示訓練時Loss曲線變化"
      ]
    },
    {
      "cell_type": "code",
      "execution_count": null,
      "metadata": {
        "id": "FEgHkpZf7tui"
      },
      "outputs": [],
      "source": [
        "plt.plot(trainHistory.history['loss'], color='r', label='loss')\n",
        "plt.plot(trainHistory.history['val_loss'], color='b', label='val_loss')\n",
        "plt.legend()\n",
        "plt.show()"
      ]
    },
    {
      "cell_type": "markdown",
      "metadata": {
        "id": "926UCfAoDneK"
      },
      "source": [
        "建立測試資料"
      ]
    },
    {
      "cell_type": "code",
      "execution_count": null,
      "metadata": {
        "id": "ijtVRIMUfhwr"
      },
      "outputs": [],
      "source": [
        "num = 1000\n",
        "x_test = np.random.rand(num) * 2 - 1\n",
        "y_test = x_test * -1"
      ]
    },
    {
      "cell_type": "markdown",
      "metadata": {
        "id": "CHRnYpXmGDJI"
      },
      "source": [
        "使用模型進行評估"
      ]
    },
    {
      "cell_type": "code",
      "execution_count": null,
      "metadata": {
        "id": "OalhmjlpGDJJ"
      },
      "outputs": [],
      "source": [
        "loss = model.evaluate(x_test)\n",
        "print(f\"Loss = {loss}\")"
      ]
    },
    {
      "cell_type": "markdown",
      "metadata": {
        "id": "YFQeuwy7Dwfm"
      },
      "source": [
        "使用模型進行預測"
      ]
    },
    {
      "cell_type": "code",
      "execution_count": null,
      "metadata": {
        "id": "PQlMYpG_DvZe"
      },
      "outputs": [],
      "source": [
        "predicted = model.predict(x_test)"
      ]
    },
    {
      "cell_type": "markdown",
      "metadata": {
        "id": "BuQF25L2D91L"
      },
      "source": [
        "圖表顯示預測結果"
      ]
    },
    {
      "cell_type": "code",
      "execution_count": null,
      "metadata": {
        "id": "aM19hrq-Dte3"
      },
      "outputs": [],
      "source": [
        "plt.plot(y_test[:30], color='r', label='y_test')\n",
        "plt.plot(predicted[:30], color='b', label='predicted')\n",
        "plt.legend()\n",
        "plt.show()"
      ]
    },
    {
      "cell_type": "markdown",
      "metadata": {
        "id": "zR1A5eNQKJmQ"
      },
      "source": [
        "列表顯示預測結果"
      ]
    },
    {
      "cell_type": "code",
      "execution_count": null,
      "metadata": {
        "id": "a2KEsf3MKIYH"
      },
      "outputs": [],
      "source": [
        "for i in range(10):\n",
        "  print(f'{i}. y_test = {y_test[i]:13.10f},  predicted = {predicted[i, 0]:13.10f},  ads_diff = {abs(predicted[i, 0] - y_test[i]):12.10f}')"
      ]
    }
  ],
  "metadata": {
    "colab": {
      "collapsed_sections": [],
      "name": "Tensorflow-basic-tutorial-t1.ipynb",
      "provenance": []
    },
    "interpreter": {
      "hash": "5a1af232b417dd52ac5e484eceb9b15881c591b30356e01b51a9e4e51b5e3b8d"
    },
    "kernelspec": {
      "display_name": "Python 3",
      "language": "python",
      "name": "python3"
    },
    "language_info": {
      "codemirror_mode": {
        "name": "ipython",
        "version": 3
      },
      "file_extension": ".py",
      "mimetype": "text/x-python",
      "name": "python",
      "nbconvert_exporter": "python",
      "pygments_lexer": "ipython3",
      "version": "3.9.12"
    }
  },
  "nbformat": 4,
  "nbformat_minor": 0
}