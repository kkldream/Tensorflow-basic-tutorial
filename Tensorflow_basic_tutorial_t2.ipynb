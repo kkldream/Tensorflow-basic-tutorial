{
  "cells": [
    {
      "cell_type": "markdown",
      "metadata": {
        "id": "ATzTdNikGECI"
      },
      "source": [
        "# 科系分類"
      ]
    },
    {
      "cell_type": "code",
      "execution_count": null,
      "metadata": {
        "pycharm": {
          "name": "#%%\n"
        },
        "id": "0VXY3aLJGECK"
      },
      "outputs": [],
      "source": [
        "import numpy as np\n",
        "import tensorflow as tf\n",
        "from tensorflow import keras\n",
        "from tensorflow.keras import layers, optimizers, losses, initializers, callbacks\n",
        "from tensorflow.keras.utils import plot_model\n",
        "from tensorflow.keras.models import load_model\n",
        "import matplotlib.pyplot as plt\n",
        "import pandas as pd"
      ]
    },
    {
      "cell_type": "markdown",
      "metadata": {
        "id": "9UAnpuwfGECL"
      },
      "source": [
        "# 資料前處理"
      ]
    },
    {
      "cell_type": "markdown",
      "metadata": {
        "id": "R1uBuKSjGECL"
      },
      "source": [
        "讀取資料集"
      ]
    },
    {
      "cell_type": "code",
      "execution_count": null,
      "metadata": {
        "id": "zmVJq-Y9GECL"
      },
      "outputs": [],
      "source": [
        "dataset_path = \"dataset.csv\"\n",
        "dataset = pd.read_csv(dataset_path)\n",
        "dataset.drop([\"Unnamed: 0\"], axis=\"columns\", inplace=True)\n",
        "dataset.head()"
      ]
    },
    {
      "cell_type": "markdown",
      "metadata": {
        "id": "QHYedcfTGECM"
      },
      "source": [
        "隨機排序"
      ]
    },
    {
      "cell_type": "code",
      "execution_count": null,
      "metadata": {
        "id": "jmi1_yGFGECM"
      },
      "outputs": [],
      "source": [
        "data_num = dataset.shape[0]\n",
        "indexes = np.random.permutation(data_num)\n",
        "dataset = dataset.loc[indexes]\n",
        "dataset.head()"
      ]
    },
    {
      "cell_type": "markdown",
      "metadata": {
        "id": "1bfR8Vp2GECM"
      },
      "source": [
        "正規化"
      ]
    },
    {
      "cell_type": "code",
      "execution_count": null,
      "metadata": {
        "id": "HJ5LtB1pGECN"
      },
      "outputs": [],
      "source": [
        "dataset[\"group\"] = pd.factorize(dataset[\"group\"])[0]\n",
        "dataset.iloc[:, 1:] = dataset.iloc[:, 1:] / 100\n",
        "dataset.head()"
      ]
    },
    {
      "cell_type": "markdown",
      "metadata": {
        "id": "OJIu5srmGECN"
      },
      "source": [
        "分割成訓練、驗證、測試資料"
      ]
    },
    {
      "cell_type": "code",
      "execution_count": null,
      "metadata": {
        "id": "ZV1U-emKGECN"
      },
      "outputs": [],
      "source": [
        "train_data = dataset.iloc[:int(data_num * 0.6)]\n",
        "val_data = dataset.iloc[int(data_num * 0.6):int(data_num * 0.8)]\n",
        "test_data = dataset.iloc[int(data_num * 0.8):]\n",
        "\n",
        "print(f\"train_data = {train_data.shape}\")\n",
        "print(f\"val_data = {val_data.shape}\")\n",
        "print(f\"test_data = {test_data.shape}\")"
      ]
    },
    {
      "cell_type": "markdown",
      "metadata": {
        "id": "iVAQ34idGECN"
      },
      "source": [
        "拆分成 X、Y 資料"
      ]
    },
    {
      "cell_type": "code",
      "execution_count": null,
      "metadata": {
        "id": "fG5Z3OQ6GECN"
      },
      "outputs": [],
      "source": [
        "X_train = train_data.iloc[:, 1:]\n",
        "Y_train = train_data.iloc[:, 0]\n",
        "X_val = val_data.iloc[:, 1:]\n",
        "Y_val = val_data.iloc[:, 0]\n",
        "X_test = test_data.iloc[:, 1:]\n",
        "Y_test = test_data.iloc[:, 0]\n",
        "print(f\"X_train = {X_train.shape}\")\n",
        "print(f\"Y_train = {Y_train.shape}\")\n",
        "print(f\"X_val = {X_val.shape}\")\n",
        "print(f\"Y_val = {Y_val.shape}\")\n",
        "print(f\"X_test = {X_test.shape}\")\n",
        "print(f\"Y_test = {Y_test.shape}\")"
      ]
    },
    {
      "cell_type": "markdown",
      "metadata": {
        "id": "46rQEtBBGECO"
      },
      "source": [
        "# 模型訓練"
      ]
    },
    {
      "cell_type": "markdown",
      "metadata": {
        "id": "khroqfXDGECO"
      },
      "source": [
        "模型建立"
      ]
    },
    {
      "cell_type": "code",
      "execution_count": null,
      "metadata": {
        "id": "73sbLYsyGECO"
      },
      "outputs": [],
      "source": [
        "model = keras.Sequential([\n",
        "  keras.Input(shape=(6,)),\n",
        "  layers.Dense(1)\n",
        "])\n",
        "model.compile(\n",
        "  optimizer=\"adam\",\n",
        "  loss=\"mse\",\n",
        "  metrics=\"acc\"\n",
        ")\n",
        "model.summary()"
      ]
    },
    {
      "cell_type": "code",
      "execution_count": null,
      "metadata": {
        "id": "MkvnrD_QGECO"
      },
      "outputs": [],
      "source": [
        "plot_model(model, show_shapes=True)"
      ]
    },
    {
      "cell_type": "markdown",
      "metadata": {
        "id": "MGT5EEf0GECO"
      },
      "source": [
        "開始訓練"
      ]
    },
    {
      "cell_type": "code",
      "execution_count": null,
      "metadata": {
        "id": "fW5oWjnBGECO"
      },
      "outputs": [],
      "source": [
        "trainHistory = model.fit(\n",
        "  X_train, Y_train,\n",
        "  batch_size=64,\n",
        "  epochs=30,\n",
        "  validation_data=(X_val, Y_val),\n",
        "  callbacks=[\n",
        "    callbacks.EarlyStopping(monitor=\"val_loss\", patience=10, verbose=True, mode=\"auto\"),\n",
        "    callbacks.ModelCheckpoint(\"model.h5\", monitor='val_loss', verbose=False, save_best_only=True, save_weights_only=False, mode='auto', save_freq='epoch'),\n",
        "    callbacks.TensorBoard(log_dir=\"logs\")\n",
        "  ]\n",
        ")"
      ]
    },
    {
      "cell_type": "markdown",
      "metadata": {
        "id": "4pfIP7lNGECP"
      },
      "source": [
        "畫出訓練結果"
      ]
    },
    {
      "cell_type": "code",
      "execution_count": null,
      "metadata": {
        "pycharm": {
          "name": "#%%\n"
        },
        "id": "hiCR4rVHGECP"
      },
      "outputs": [],
      "source": [
        "plt.plot(trainHistory.history['loss'], color='r', label='loss')\n",
        "plt.plot(trainHistory.history['val_loss'], color='b', label='val_loss')\n",
        "plt.legend()\n",
        "plt.show()"
      ]
    },
    {
      "cell_type": "code",
      "source": [
        "plt.plot(trainHistory.history['acc'], color='r', label='acc')\n",
        "plt.plot(trainHistory.history['val_acc'], color='b', label='val_acc')\n",
        "plt.legend()\n",
        "plt.show()"
      ],
      "metadata": {
        "id": "8na0mnGFOKaQ"
      },
      "execution_count": null,
      "outputs": []
    },
    {
      "cell_type": "markdown",
      "metadata": {
        "collapsed": false,
        "id": "Pg66ZD1PGECP"
      },
      "source": [
        "# 測試結果"
      ]
    },
    {
      "cell_type": "markdown",
      "metadata": {
        "id": "zi-9QdbgGECQ"
      },
      "source": [
        "載入最佳模型"
      ]
    },
    {
      "cell_type": "code",
      "execution_count": null,
      "metadata": {
        "id": "a4ugcN1sGECQ"
      },
      "outputs": [],
      "source": [
        "best_model = load_model(\"model.h5\")"
      ]
    },
    {
      "cell_type": "markdown",
      "metadata": {
        "id": "YZ24JeaKGECQ"
      },
      "source": [
        "模型驗證"
      ]
    },
    {
      "cell_type": "code",
      "execution_count": null,
      "metadata": {
        "id": "CfmAdDrBGECQ"
      },
      "outputs": [],
      "source": [
        "result = best_model.evaluate(X_test, Y_test)\n",
        "print(f\"Loss = {result[0]}, ACC = {result[1] * 100}%\")"
      ]
    },
    {
      "cell_type": "markdown",
      "metadata": {
        "id": "rGzAg7AlGECQ"
      },
      "source": [
        "模型預測"
      ]
    },
    {
      "cell_type": "code",
      "execution_count": null,
      "metadata": {
        "id": "BIObwvtmGECQ"
      },
      "outputs": [],
      "source": [
        "predict = best_model.predict(X_test)\n",
        "Y_pred = (predict >= 0.5)"
      ]
    },
    {
      "cell_type": "markdown",
      "metadata": {
        "id": "U50VwlUrGECQ"
      },
      "source": [
        "畫出混淆矩陣"
      ]
    },
    {
      "cell_type": "code",
      "execution_count": null,
      "metadata": {
        "id": "LqGca_vnGECQ"
      },
      "outputs": [],
      "source": [
        "import utils\n",
        "utils.plot_confusion_matrix(Y_test, Y_pred, 2)"
      ]
    },
    {
      "cell_type": "markdown",
      "metadata": {
        "id": "21aV1fJbGECR"
      },
      "source": [
        "# 實際應用"
      ]
    },
    {
      "cell_type": "markdown",
      "metadata": {
        "id": "2YiKOM1tGECR"
      },
      "source": [
        "自行設計模型預測API"
      ]
    },
    {
      "cell_type": "code",
      "execution_count": null,
      "metadata": {
        "id": "6L0Wl-WUGECR"
      },
      "outputs": [],
      "source": [
        "def run_model(data):\n",
        "  input_data = np.array([\n",
        "    data[\"chinese\"],\n",
        "    data[\"english\"],\n",
        "    data[\"math\"],\n",
        "    data[\"nature\"],\n",
        "    data[\"society\"],\n",
        "    data[\"physics\"]\n",
        "  ])\n",
        "  input_data = input_data / 100\n",
        "  input_data = input_data[np.newaxis, :]\n",
        "  predict = model.predict(input_data)\n",
        "  output_data = {\n",
        "    \"literature\": 1 - predict[0][0],\n",
        "    \"science\": predict[0][0]\n",
        "  }\n",
        "  return output_data"
      ]
    },
    {
      "cell_type": "markdown",
      "metadata": {
        "id": "aWrMxMmlGECR"
      },
      "source": [
        "使用範例"
      ]
    },
    {
      "cell_type": "code",
      "execution_count": null,
      "metadata": {
        "id": "t_rwFxaIGECR"
      },
      "outputs": [],
      "source": [
        "input_data = {\n",
        "  \"chinese\": 50,\n",
        "  \"english\": 60,\n",
        "  \"math\": 80,\n",
        "  \"nature\": 50,\n",
        "  \"society\": 50,\n",
        "  \"physics\": 50\n",
        "}\n",
        "\n",
        "result = run_model(input_data)\n",
        "\n",
        "print(f\"{int(result['literature'] * 100)}% is Literature\")\n",
        "print(f\"{int(result['science'] * 100)}% is Science\")"
      ]
    }
  ],
  "metadata": {
    "interpreter": {
      "hash": "5a1af232b417dd52ac5e484eceb9b15881c591b30356e01b51a9e4e51b5e3b8d"
    },
    "kernelspec": {
      "display_name": "Python 3.9.12 ('tf26')",
      "language": "python",
      "name": "python3"
    },
    "language_info": {
      "codemirror_mode": {
        "name": "ipython",
        "version": 3
      },
      "file_extension": ".py",
      "mimetype": "text/x-python",
      "name": "python",
      "nbconvert_exporter": "python",
      "pygments_lexer": "ipython3",
      "version": "3.9.12"
    },
    "colab": {
      "name": "Tensorflow-basic-tutorial-t2.ipynb",
      "provenance": [],
      "collapsed_sections": []
    }
  },
  "nbformat": 4,
  "nbformat_minor": 0
}