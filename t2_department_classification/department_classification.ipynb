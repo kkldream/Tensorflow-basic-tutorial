{
 "cells": [
  {
   "cell_type": "code",
   "execution_count": 1,
   "metadata": {
    "collapsed": false,
    "pycharm": {
     "name": "#%%\n"
    }
   },
   "outputs": [],
   "source": [
    "import numpy as np\n",
    "import tensorflow as tf\n",
    "from tensorflow import keras\n",
    "from tensorflow.keras import layers, optimizers, losses, initializers\n",
    "from tensorflow.keras.utils import plot_model\n",
    "from tensorflow.keras.models import load_model\n",
    "import matplotlib.pyplot as plt\n",
    "import pandas as pd\n",
    "import utils"
   ]
  },
  {
   "cell_type": "code",
   "execution_count": 2,
   "metadata": {},
   "outputs": [],
   "source": [
    "physical_gpus = tf.config.list_physical_devices('GPU')\n",
    "tf.config.experimental.set_memory_growth(physical_gpus[0], True)"
   ]
  },
  {
   "cell_type": "markdown",
   "metadata": {},
   "source": [
    "# 資料前處理"
   ]
  },
  {
   "cell_type": "markdown",
   "metadata": {},
   "source": [
    "讀取資料集"
   ]
  },
  {
   "cell_type": "code",
   "execution_count": 14,
   "metadata": {},
   "outputs": [
    {
     "data": {
      "text/html": [
       "<div>\n",
       "<style scoped>\n",
       "    .dataframe tbody tr th:only-of-type {\n",
       "        vertical-align: middle;\n",
       "    }\n",
       "\n",
       "    .dataframe tbody tr th {\n",
       "        vertical-align: top;\n",
       "    }\n",
       "\n",
       "    .dataframe thead th {\n",
       "        text-align: right;\n",
       "    }\n",
       "</style>\n",
       "<table border=\"1\" class=\"dataframe\">\n",
       "  <thead>\n",
       "    <tr style=\"text-align: right;\">\n",
       "      <th></th>\n",
       "      <th>group</th>\n",
       "      <th>chinese</th>\n",
       "      <th>english</th>\n",
       "      <th>math</th>\n",
       "      <th>nature</th>\n",
       "      <th>society</th>\n",
       "      <th>physics</th>\n",
       "    </tr>\n",
       "  </thead>\n",
       "  <tbody>\n",
       "    <tr>\n",
       "      <th>0</th>\n",
       "      <td>literature</td>\n",
       "      <td>72.492435</td>\n",
       "      <td>65.448919</td>\n",
       "      <td>18.169894</td>\n",
       "      <td>32.351591</td>\n",
       "      <td>96.402326</td>\n",
       "      <td>49.074423</td>\n",
       "    </tr>\n",
       "    <tr>\n",
       "      <th>1</th>\n",
       "      <td>literature</td>\n",
       "      <td>97.712323</td>\n",
       "      <td>68.422788</td>\n",
       "      <td>27.067687</td>\n",
       "      <td>47.742138</td>\n",
       "      <td>66.724955</td>\n",
       "      <td>46.866290</td>\n",
       "    </tr>\n",
       "    <tr>\n",
       "      <th>2</th>\n",
       "      <td>literature</td>\n",
       "      <td>88.636037</td>\n",
       "      <td>66.498265</td>\n",
       "      <td>42.349090</td>\n",
       "      <td>43.110598</td>\n",
       "      <td>63.040454</td>\n",
       "      <td>34.593495</td>\n",
       "    </tr>\n",
       "    <tr>\n",
       "      <th>3</th>\n",
       "      <td>literature</td>\n",
       "      <td>99.899684</td>\n",
       "      <td>73.103312</td>\n",
       "      <td>20.929818</td>\n",
       "      <td>46.384879</td>\n",
       "      <td>74.326143</td>\n",
       "      <td>52.849913</td>\n",
       "    </tr>\n",
       "    <tr>\n",
       "      <th>4</th>\n",
       "      <td>literature</td>\n",
       "      <td>82.656152</td>\n",
       "      <td>61.917569</td>\n",
       "      <td>21.044429</td>\n",
       "      <td>57.106996</td>\n",
       "      <td>54.139797</td>\n",
       "      <td>52.853023</td>\n",
       "    </tr>\n",
       "  </tbody>\n",
       "</table>\n",
       "</div>"
      ],
      "text/plain": [
       "        group    chinese    english       math     nature    society  \\\n",
       "0  literature  72.492435  65.448919  18.169894  32.351591  96.402326   \n",
       "1  literature  97.712323  68.422788  27.067687  47.742138  66.724955   \n",
       "2  literature  88.636037  66.498265  42.349090  43.110598  63.040454   \n",
       "3  literature  99.899684  73.103312  20.929818  46.384879  74.326143   \n",
       "4  literature  82.656152  61.917569  21.044429  57.106996  54.139797   \n",
       "\n",
       "     physics  \n",
       "0  49.074423  \n",
       "1  46.866290  \n",
       "2  34.593495  \n",
       "3  52.849913  \n",
       "4  52.853023  "
      ]
     },
     "execution_count": 14,
     "metadata": {},
     "output_type": "execute_result"
    }
   ],
   "source": [
    "dataset_path = \"dataset.csv\"\n",
    "dataset = pd.read_csv(dataset_path)\n",
    "dataset.drop([\"Unnamed: 0\"], axis=\"columns\", inplace=True)\n",
    "dataset.head()"
   ]
  },
  {
   "cell_type": "markdown",
   "metadata": {},
   "source": [
    "隨機排序"
   ]
  },
  {
   "cell_type": "code",
   "execution_count": 15,
   "metadata": {},
   "outputs": [
    {
     "data": {
      "text/html": [
       "<div>\n",
       "<style scoped>\n",
       "    .dataframe tbody tr th:only-of-type {\n",
       "        vertical-align: middle;\n",
       "    }\n",
       "\n",
       "    .dataframe tbody tr th {\n",
       "        vertical-align: top;\n",
       "    }\n",
       "\n",
       "    .dataframe thead th {\n",
       "        text-align: right;\n",
       "    }\n",
       "</style>\n",
       "<table border=\"1\" class=\"dataframe\">\n",
       "  <thead>\n",
       "    <tr style=\"text-align: right;\">\n",
       "      <th></th>\n",
       "      <th>group</th>\n",
       "      <th>chinese</th>\n",
       "      <th>english</th>\n",
       "      <th>math</th>\n",
       "      <th>nature</th>\n",
       "      <th>society</th>\n",
       "      <th>physics</th>\n",
       "    </tr>\n",
       "  </thead>\n",
       "  <tbody>\n",
       "    <tr>\n",
       "      <th>465</th>\n",
       "      <td>science</td>\n",
       "      <td>46.657013</td>\n",
       "      <td>77.960978</td>\n",
       "      <td>71.498167</td>\n",
       "      <td>82.900227</td>\n",
       "      <td>71.283980</td>\n",
       "      <td>83.603746</td>\n",
       "    </tr>\n",
       "    <tr>\n",
       "      <th>189</th>\n",
       "      <td>literature</td>\n",
       "      <td>86.632922</td>\n",
       "      <td>65.650457</td>\n",
       "      <td>26.955477</td>\n",
       "      <td>38.470583</td>\n",
       "      <td>42.308201</td>\n",
       "      <td>50.809259</td>\n",
       "    </tr>\n",
       "    <tr>\n",
       "      <th>296</th>\n",
       "      <td>science</td>\n",
       "      <td>37.324094</td>\n",
       "      <td>53.126066</td>\n",
       "      <td>86.613359</td>\n",
       "      <td>76.957717</td>\n",
       "      <td>6.182184</td>\n",
       "      <td>59.754612</td>\n",
       "    </tr>\n",
       "    <tr>\n",
       "      <th>374</th>\n",
       "      <td>science</td>\n",
       "      <td>50.298795</td>\n",
       "      <td>67.242522</td>\n",
       "      <td>89.335691</td>\n",
       "      <td>57.188052</td>\n",
       "      <td>17.273878</td>\n",
       "      <td>67.594298</td>\n",
       "    </tr>\n",
       "    <tr>\n",
       "      <th>65</th>\n",
       "      <td>literature</td>\n",
       "      <td>78.057492</td>\n",
       "      <td>58.202999</td>\n",
       "      <td>23.241113</td>\n",
       "      <td>24.539311</td>\n",
       "      <td>35.477260</td>\n",
       "      <td>38.342545</td>\n",
       "    </tr>\n",
       "  </tbody>\n",
       "</table>\n",
       "</div>"
      ],
      "text/plain": [
       "          group    chinese    english       math     nature    society  \\\n",
       "465     science  46.657013  77.960978  71.498167  82.900227  71.283980   \n",
       "189  literature  86.632922  65.650457  26.955477  38.470583  42.308201   \n",
       "296     science  37.324094  53.126066  86.613359  76.957717   6.182184   \n",
       "374     science  50.298795  67.242522  89.335691  57.188052  17.273878   \n",
       "65   literature  78.057492  58.202999  23.241113  24.539311  35.477260   \n",
       "\n",
       "       physics  \n",
       "465  83.603746  \n",
       "189  50.809259  \n",
       "296  59.754612  \n",
       "374  67.594298  \n",
       "65   38.342545  "
      ]
     },
     "execution_count": 15,
     "metadata": {},
     "output_type": "execute_result"
    }
   ],
   "source": [
    "data_num = dataset.shape[0]\n",
    "indexes = np.random.permutation(data_num)\n",
    "dataset = dataset.loc[indexes]\n",
    "dataset.head()"
   ]
  },
  {
   "cell_type": "markdown",
   "metadata": {},
   "source": [
    "正規化"
   ]
  },
  {
   "cell_type": "code",
   "execution_count": 16,
   "metadata": {},
   "outputs": [
    {
     "data": {
      "text/html": [
       "<div>\n",
       "<style scoped>\n",
       "    .dataframe tbody tr th:only-of-type {\n",
       "        vertical-align: middle;\n",
       "    }\n",
       "\n",
       "    .dataframe tbody tr th {\n",
       "        vertical-align: top;\n",
       "    }\n",
       "\n",
       "    .dataframe thead th {\n",
       "        text-align: right;\n",
       "    }\n",
       "</style>\n",
       "<table border=\"1\" class=\"dataframe\">\n",
       "  <thead>\n",
       "    <tr style=\"text-align: right;\">\n",
       "      <th></th>\n",
       "      <th>group</th>\n",
       "      <th>chinese</th>\n",
       "      <th>english</th>\n",
       "      <th>math</th>\n",
       "      <th>nature</th>\n",
       "      <th>society</th>\n",
       "      <th>physics</th>\n",
       "    </tr>\n",
       "  </thead>\n",
       "  <tbody>\n",
       "    <tr>\n",
       "      <th>465</th>\n",
       "      <td>0</td>\n",
       "      <td>0.466570</td>\n",
       "      <td>0.779610</td>\n",
       "      <td>0.714982</td>\n",
       "      <td>0.829002</td>\n",
       "      <td>0.712840</td>\n",
       "      <td>0.836037</td>\n",
       "    </tr>\n",
       "    <tr>\n",
       "      <th>189</th>\n",
       "      <td>1</td>\n",
       "      <td>0.866329</td>\n",
       "      <td>0.656505</td>\n",
       "      <td>0.269555</td>\n",
       "      <td>0.384706</td>\n",
       "      <td>0.423082</td>\n",
       "      <td>0.508093</td>\n",
       "    </tr>\n",
       "    <tr>\n",
       "      <th>296</th>\n",
       "      <td>0</td>\n",
       "      <td>0.373241</td>\n",
       "      <td>0.531261</td>\n",
       "      <td>0.866134</td>\n",
       "      <td>0.769577</td>\n",
       "      <td>0.061822</td>\n",
       "      <td>0.597546</td>\n",
       "    </tr>\n",
       "    <tr>\n",
       "      <th>374</th>\n",
       "      <td>0</td>\n",
       "      <td>0.502988</td>\n",
       "      <td>0.672425</td>\n",
       "      <td>0.893357</td>\n",
       "      <td>0.571881</td>\n",
       "      <td>0.172739</td>\n",
       "      <td>0.675943</td>\n",
       "    </tr>\n",
       "    <tr>\n",
       "      <th>65</th>\n",
       "      <td>1</td>\n",
       "      <td>0.780575</td>\n",
       "      <td>0.582030</td>\n",
       "      <td>0.232411</td>\n",
       "      <td>0.245393</td>\n",
       "      <td>0.354773</td>\n",
       "      <td>0.383425</td>\n",
       "    </tr>\n",
       "  </tbody>\n",
       "</table>\n",
       "</div>"
      ],
      "text/plain": [
       "     group   chinese   english      math    nature   society   physics\n",
       "465      0  0.466570  0.779610  0.714982  0.829002  0.712840  0.836037\n",
       "189      1  0.866329  0.656505  0.269555  0.384706  0.423082  0.508093\n",
       "296      0  0.373241  0.531261  0.866134  0.769577  0.061822  0.597546\n",
       "374      0  0.502988  0.672425  0.893357  0.571881  0.172739  0.675943\n",
       "65       1  0.780575  0.582030  0.232411  0.245393  0.354773  0.383425"
      ]
     },
     "execution_count": 16,
     "metadata": {},
     "output_type": "execute_result"
    }
   ],
   "source": [
    "dataset[\"group\"] = pd.factorize(dataset[\"group\"])[0]\n",
    "dataset.iloc[:, 1:] = dataset.iloc[:, 1:] / 100\n",
    "dataset.head()"
   ]
  },
  {
   "cell_type": "markdown",
   "metadata": {},
   "source": [
    "分割成訓練、驗證、測試資料"
   ]
  },
  {
   "cell_type": "code",
   "execution_count": 17,
   "metadata": {},
   "outputs": [
    {
     "name": "stdout",
     "output_type": "stream",
     "text": [
      "train_data = (300, 7)\n",
      "val_data = (100, 7)\n",
      "test_data = (100, 7)\n"
     ]
    }
   ],
   "source": [
    "train_data = dataset.iloc[:int(data_num * 0.6)]\n",
    "val_data = dataset.iloc[int(data_num * 0.6):int(data_num * 0.8)]\n",
    "test_data = dataset.iloc[int(data_num * 0.8):]\n",
    "\n",
    "print(f\"train_data = {train_data.shape}\")\n",
    "print(f\"val_data = {val_data.shape}\")\n",
    "print(f\"test_data = {test_data.shape}\")"
   ]
  },
  {
   "cell_type": "markdown",
   "metadata": {},
   "source": [
    "拆分成 X、Y 資料"
   ]
  },
  {
   "cell_type": "code",
   "execution_count": 18,
   "metadata": {},
   "outputs": [
    {
     "name": "stdout",
     "output_type": "stream",
     "text": [
      "X_train = (300, 6)\n",
      "Y_train = (300,)\n",
      "X_val = (100, 6)\n",
      "Y_val = (100,)\n",
      "X_test = (100, 6)\n",
      "Y_test = (100,)\n"
     ]
    }
   ],
   "source": [
    "X_train = train_data.iloc[:, 1:]\n",
    "Y_train = train_data.iloc[:, 0]\n",
    "X_val = val_data.iloc[:, 1:]\n",
    "Y_val = val_data.iloc[:, 0]\n",
    "X_test = test_data.iloc[:, 1:]\n",
    "Y_test = test_data.iloc[:, 0]\n",
    "print(f\"X_train = {X_train.shape}\")\n",
    "print(f\"Y_train = {Y_train.shape}\")\n",
    "print(f\"X_val = {X_val.shape}\")\n",
    "print(f\"Y_val = {Y_val.shape}\")\n",
    "print(f\"X_test = {X_test.shape}\")\n",
    "print(f\"Y_test = {Y_test.shape}\")"
   ]
  },
  {
   "cell_type": "markdown",
   "metadata": {},
   "source": [
    "# 模型訓練"
   ]
  },
  {
   "cell_type": "markdown",
   "metadata": {},
   "source": [
    "模型建立"
   ]
  },
  {
   "cell_type": "code",
   "execution_count": 19,
   "metadata": {},
   "outputs": [
    {
     "name": "stdout",
     "output_type": "stream",
     "text": [
      "Model: \"sequential\"\n",
      "_________________________________________________________________\n",
      "Layer (type)                 Output Shape              Param #   \n",
      "=================================================================\n",
      "dense (Dense)                (None, 16)                112       \n",
      "_________________________________________________________________\n",
      "dense_1 (Dense)              (None, 16)                272       \n",
      "_________________________________________________________________\n",
      "dense_2 (Dense)              (None, 1)                 17        \n",
      "=================================================================\n",
      "Total params: 401\n",
      "Trainable params: 401\n",
      "Non-trainable params: 0\n",
      "_________________________________________________________________\n"
     ]
    }
   ],
   "source": [
    "model = keras.Sequential([\n",
    "    keras.Input(shape=(6,)),\n",
    "    layers.Dense(16),\n",
    "    layers.Dense(16),\n",
    "    layers.Dense(1, activation=\"121295\")\n",
    "])\n",
    "model.compile(\n",
    "    optimizer=\"adam\",\n",
    "    loss=\"binary_crossentropy\",\n",
    "    metrics=\"binary_accuracy\"\n",
    ")\n",
    "model.summary()"
   ]
  },
  {
   "cell_type": "code",
   "execution_count": 20,
   "metadata": {},
   "outputs": [
    {
     "data": {
      "image/png": "[encoded data removed]",
      "text/plain": [
       "<IPython.core.display.Image object>"
      ]
     },
     "execution_count": 20,
     "metadata": {},
     "output_type": "execute_result"
    }
   ],
   "source": [
    "plot_model(model, show_shapes=True)"
   ]
  },
  {
   "cell_type": "markdown",
   "metadata": {},
   "source": [
    "建立回調函數"
   ]
  },
  {
   "cell_type": "code",
   "execution_count": 21,
   "metadata": {},
   "outputs": [],
   "source": [
    "callbacks = []\n",
    "''' EarlyStopping '''\n",
    "callbacks.append(\n",
    "    keras.callbacks.EarlyStopping(monitor=\"val_loss\", patience=10, verbose=True, mode=\"auto\")\n",
    ")\n",
    "''' ModelCheckpoint '''\n",
    "callbacks.append(\n",
    "    keras.callbacks.ModelCheckpoint(\"model.h5\", monitor='val_loss', verbose=False, save_best_only=True, save_weights_only=False, mode='auto', save_freq='epoch')\n",
    ")\n",
    "''' TensorBoard '''\n",
    "callbacks.append(\n",
    "  keras.callbacks.TensorBoard(log_dir=\"logs\")\n",
    ")"
   ]
  },
  {
   "cell_type": "markdown",
   "metadata": {},
   "source": [
    "開始訓練"
   ]
  },
  {
   "cell_type": "code",
   "execution_count": 22,
   "metadata": {},
   "outputs": [
    {
     "name": "stdout",
     "output_type": "stream",
     "text": [
      "Epoch 1/100\n",
      "5/5 [==============================] - 1s 110ms/step - loss: 0.6466 - binary_accuracy: 0.4600 - val_loss: 0.4968 - val_binary_accuracy: 0.6000\n",
      "Epoch 2/100\n",
      "5/5 [==============================] - 0s 15ms/step - loss: 0.5490 - binary_accuracy: 0.5200 - val_loss: 0.4465 - val_binary_accuracy: 0.7200\n",
      "Epoch 3/100\n",
      "5/5 [==============================] - 0s 15ms/step - loss: 0.4777 - binary_accuracy: 0.7500 - val_loss: 0.4146 - val_binary_accuracy: 0.8800\n",
      "Epoch 4/100\n",
      "5/5 [==============================] - 0s 17ms/step - loss: 0.4243 - binary_accuracy: 0.9400 - val_loss: 0.3966 - val_binary_accuracy: 0.9900\n",
      "Epoch 5/100\n",
      "5/5 [==============================] - 0s 20ms/step - loss: 0.3881 - binary_accuracy: 0.9967 - val_loss: 0.3843 - val_binary_accuracy: 0.9900\n",
      "Epoch 6/100\n",
      "5/5 [==============================] - 0s 18ms/step - loss: 0.3652 - binary_accuracy: 0.9967 - val_loss: 0.3721 - val_binary_accuracy: 0.9900\n",
      "Epoch 7/100\n",
      "5/5 [==============================] - 0s 18ms/step - loss: 0.3432 - binary_accuracy: 0.9967 - val_loss: 0.3550 - val_binary_accuracy: 1.0000\n",
      "Epoch 8/100\n",
      "5/5 [==============================] - 0s 20ms/step - loss: 0.3227 - binary_accuracy: 0.9967 - val_loss: 0.3340 - val_binary_accuracy: 1.0000\n",
      "Epoch 9/100\n",
      "5/5 [==============================] - 0s 20ms/step - loss: 0.3020 - binary_accuracy: 0.9967 - val_loss: 0.3114 - val_binary_accuracy: 1.0000\n",
      "Epoch 10/100\n",
      "5/5 [==============================] - 0s 16ms/step - loss: 0.2819 - binary_accuracy: 0.9967 - val_loss: 0.2899 - val_binary_accuracy: 1.0000\n",
      "Epoch 11/100\n",
      "5/5 [==============================] - 0s 19ms/step - loss: 0.2631 - binary_accuracy: 0.9967 - val_loss: 0.2689 - val_binary_accuracy: 1.0000\n",
      "Epoch 12/100\n",
      "5/5 [==============================] - 0s 18ms/step - loss: 0.2456 - binary_accuracy: 0.9967 - val_loss: 0.2496 - val_binary_accuracy: 1.0000\n",
      "Epoch 13/100\n",
      "5/5 [==============================] - 0s 17ms/step - loss: 0.2291 - binary_accuracy: 0.9967 - val_loss: 0.2328 - val_binary_accuracy: 1.0000\n",
      "Epoch 14/100\n",
      "5/5 [==============================] - 0s 18ms/step - loss: 0.2137 - binary_accuracy: 0.9967 - val_loss: 0.2170 - val_binary_accuracy: 1.0000\n",
      "Epoch 15/100\n",
      "5/5 [==============================] - 0s 18ms/step - loss: 0.1990 - binary_accuracy: 0.9967 - val_loss: 0.2030 - val_binary_accuracy: 1.0000\n",
      "Epoch 16/100\n",
      "5/5 [==============================] - 0s 18ms/step - loss: 0.1851 - binary_accuracy: 0.9967 - val_loss: 0.1899 - val_binary_accuracy: 1.0000\n",
      "Epoch 17/100\n",
      "5/5 [==============================] - 0s 15ms/step - loss: 0.1721 - binary_accuracy: 0.9967 - val_loss: 0.1781 - val_binary_accuracy: 1.0000\n",
      "Epoch 18/100\n",
      "5/5 [==============================] - 0s 14ms/step - loss: 0.1602 - binary_accuracy: 0.9967 - val_loss: 0.1668 - val_binary_accuracy: 1.0000\n",
      "Epoch 19/100\n",
      "5/5 [==============================] - 0s 15ms/step - loss: 0.1489 - binary_accuracy: 0.9967 - val_loss: 0.1563 - val_binary_accuracy: 1.0000\n",
      "Epoch 20/100\n",
      "5/5 [==============================] - 0s 15ms/step - loss: 0.1386 - binary_accuracy: 0.9967 - val_loss: 0.1459 - val_binary_accuracy: 1.0000\n",
      "Epoch 21/100\n",
      "5/5 [==============================] - 0s 14ms/step - loss: 0.1291 - binary_accuracy: 0.9967 - val_loss: 0.1358 - val_binary_accuracy: 1.0000\n",
      "Epoch 22/100\n",
      "5/5 [==============================] - 0s 15ms/step - loss: 0.1203 - binary_accuracy: 0.9967 - val_loss: 0.1267 - val_binary_accuracy: 1.0000\n",
      "Epoch 23/100\n",
      "5/5 [==============================] - 0s 16ms/step - loss: 0.1121 - binary_accuracy: 0.9967 - val_loss: 0.1186 - val_binary_accuracy: 1.0000\n",
      "Epoch 24/100\n",
      "5/5 [==============================] - 0s 16ms/step - loss: 0.1046 - binary_accuracy: 0.9967 - val_loss: 0.1108 - val_binary_accuracy: 1.0000\n",
      "Epoch 25/100\n",
      "5/5 [==============================] - 0s 15ms/step - loss: 0.0978 - binary_accuracy: 0.9967 - val_loss: 0.1041 - val_binary_accuracy: 1.0000\n",
      "Epoch 26/100\n",
      "5/5 [==============================] - 0s 16ms/step - loss: 0.0914 - binary_accuracy: 0.9967 - val_loss: 0.0980 - val_binary_accuracy: 1.0000\n",
      "Epoch 27/100\n",
      "5/5 [==============================] - 0s 16ms/step - loss: 0.0856 - binary_accuracy: 0.9967 - val_loss: 0.0921 - val_binary_accuracy: 1.0000\n",
      "Epoch 28/100\n",
      "5/5 [==============================] - 0s 16ms/step - loss: 0.0803 - binary_accuracy: 0.9967 - val_loss: 0.0864 - val_binary_accuracy: 1.0000\n",
      "Epoch 29/100\n",
      "5/5 [==============================] - 0s 14ms/step - loss: 0.0754 - binary_accuracy: 0.9967 - val_loss: 0.0814 - val_binary_accuracy: 1.0000\n",
      "Epoch 30/100\n",
      "5/5 [==============================] - 0s 20ms/step - loss: 0.0709 - binary_accuracy: 0.9967 - val_loss: 0.0770 - val_binary_accuracy: 1.0000\n",
      "Epoch 31/100\n",
      "5/5 [==============================] - 0s 16ms/step - loss: 0.0667 - binary_accuracy: 0.9967 - val_loss: 0.0725 - val_binary_accuracy: 1.0000\n",
      "Epoch 32/100\n",
      "5/5 [==============================] - 0s 15ms/step - loss: 0.0631 - binary_accuracy: 0.9967 - val_loss: 0.0684 - val_binary_accuracy: 1.0000\n",
      "Epoch 33/100\n",
      "5/5 [==============================] - 0s 14ms/step - loss: 0.0595 - binary_accuracy: 0.9967 - val_loss: 0.0648 - val_binary_accuracy: 1.0000\n",
      "Epoch 34/100\n",
      "5/5 [==============================] - 0s 15ms/step - loss: 0.0563 - binary_accuracy: 0.9967 - val_loss: 0.0616 - val_binary_accuracy: 1.0000\n",
      "Epoch 35/100\n",
      "5/5 [==============================] - 0s 16ms/step - loss: 0.0533 - binary_accuracy: 0.9967 - val_loss: 0.0587 - val_binary_accuracy: 1.0000\n",
      "Epoch 36/100\n",
      "5/5 [==============================] - 0s 15ms/step - loss: 0.0505 - binary_accuracy: 0.9967 - val_loss: 0.0558 - val_binary_accuracy: 1.0000\n",
      "Epoch 37/100\n",
      "5/5 [==============================] - 0s 14ms/step - loss: 0.0480 - binary_accuracy: 0.9967 - val_loss: 0.0530 - val_binary_accuracy: 1.0000\n",
      "Epoch 38/100\n",
      "5/5 [==============================] - 0s 15ms/step - loss: 0.0456 - binary_accuracy: 0.9967 - val_loss: 0.0504 - val_binary_accuracy: 1.0000\n",
      "Epoch 39/100\n",
      "5/5 [==============================] - 0s 16ms/step - loss: 0.0434 - binary_accuracy: 0.9967 - val_loss: 0.0480 - val_binary_accuracy: 1.0000\n",
      "Epoch 40/100\n",
      "5/5 [==============================] - 0s 14ms/step - loss: 0.0414 - binary_accuracy: 0.9967 - val_loss: 0.0458 - val_binary_accuracy: 1.0000\n",
      "Epoch 41/100\n",
      "5/5 [==============================] - 0s 14ms/step - loss: 0.0396 - binary_accuracy: 0.9967 - val_loss: 0.0439 - val_binary_accuracy: 1.0000\n",
      "Epoch 42/100\n",
      "5/5 [==============================] - 0s 14ms/step - loss: 0.0378 - binary_accuracy: 0.9967 - val_loss: 0.0421 - val_binary_accuracy: 1.0000\n",
      "Epoch 43/100\n",
      "5/5 [==============================] - 0s 14ms/step - loss: 0.0361 - binary_accuracy: 0.9967 - val_loss: 0.0403 - val_binary_accuracy: 1.0000\n",
      "Epoch 44/100\n",
      "5/5 [==============================] - 0s 13ms/step - loss: 0.0345 - binary_accuracy: 0.9967 - val_loss: 0.0388 - val_binary_accuracy: 1.0000\n",
      "Epoch 45/100\n",
      "5/5 [==============================] - 0s 14ms/step - loss: 0.0331 - binary_accuracy: 0.9967 - val_loss: 0.0372 - val_binary_accuracy: 1.0000\n",
      "Epoch 46/100\n",
      "5/5 [==============================] - 0s 13ms/step - loss: 0.0317 - binary_accuracy: 0.9967 - val_loss: 0.0357 - val_binary_accuracy: 1.0000\n",
      "Epoch 47/100\n",
      "5/5 [==============================] - 0s 13ms/step - loss: 0.0305 - binary_accuracy: 0.9967 - val_loss: 0.0343 - val_binary_accuracy: 1.0000\n",
      "Epoch 48/100\n",
      "5/5 [==============================] - 0s 14ms/step - loss: 0.0293 - binary_accuracy: 1.0000 - val_loss: 0.0330 - val_binary_accuracy: 1.0000\n",
      "Epoch 49/100\n",
      "5/5 [==============================] - 0s 13ms/step - loss: 0.0282 - binary_accuracy: 1.0000 - val_loss: 0.0318 - val_binary_accuracy: 1.0000\n",
      "Epoch 50/100\n",
      "5/5 [==============================] - 0s 14ms/step - loss: 0.0271 - binary_accuracy: 1.0000 - val_loss: 0.0307 - val_binary_accuracy: 1.0000\n",
      "Epoch 51/100\n",
      "5/5 [==============================] - 0s 13ms/step - loss: 0.0262 - binary_accuracy: 1.0000 - val_loss: 0.0296 - val_binary_accuracy: 1.0000\n",
      "Epoch 52/100\n",
      "5/5 [==============================] - 0s 14ms/step - loss: 0.0252 - binary_accuracy: 1.0000 - val_loss: 0.0287 - val_binary_accuracy: 1.0000\n",
      "Epoch 53/100\n",
      "5/5 [==============================] - 0s 14ms/step - loss: 0.0244 - binary_accuracy: 1.0000 - val_loss: 0.0276 - val_binary_accuracy: 1.0000\n",
      "Epoch 54/100\n",
      "5/5 [==============================] - 0s 14ms/step - loss: 0.0236 - binary_accuracy: 1.0000 - val_loss: 0.0267 - val_binary_accuracy: 1.0000\n",
      "Epoch 55/100\n",
      "5/5 [==============================] - 0s 14ms/step - loss: 0.0228 - binary_accuracy: 1.0000 - val_loss: 0.0258 - val_binary_accuracy: 1.0000\n",
      "Epoch 56/100\n",
      "5/5 [==============================] - 0s 15ms/step - loss: 0.0220 - binary_accuracy: 1.0000 - val_loss: 0.0250 - val_binary_accuracy: 1.0000\n",
      "Epoch 57/100\n",
      "5/5 [==============================] - 0s 13ms/step - loss: 0.0213 - binary_accuracy: 1.0000 - val_loss: 0.0242 - val_binary_accuracy: 1.0000\n",
      "Epoch 58/100\n",
      "5/5 [==============================] - 0s 13ms/step - loss: 0.0206 - binary_accuracy: 1.0000 - val_loss: 0.0235 - val_binary_accuracy: 1.0000\n",
      "Epoch 59/100\n",
      "5/5 [==============================] - 0s 18ms/step - loss: 0.0200 - binary_accuracy: 1.0000 - val_loss: 0.0228 - val_binary_accuracy: 1.0000\n",
      "Epoch 60/100\n",
      "5/5 [==============================] - 0s 15ms/step - loss: 0.0194 - binary_accuracy: 1.0000 - val_loss: 0.0220 - val_binary_accuracy: 1.0000\n",
      "Epoch 61/100\n",
      "5/5 [==============================] - 0s 14ms/step - loss: 0.0188 - binary_accuracy: 1.0000 - val_loss: 0.0213 - val_binary_accuracy: 1.0000\n",
      "Epoch 62/100\n",
      "5/5 [==============================] - 0s 13ms/step - loss: 0.0183 - binary_accuracy: 1.0000 - val_loss: 0.0207 - val_binary_accuracy: 1.0000\n",
      "Epoch 63/100\n",
      "5/5 [==============================] - 0s 14ms/step - loss: 0.0178 - binary_accuracy: 1.0000 - val_loss: 0.0202 - val_binary_accuracy: 1.0000\n",
      "Epoch 64/100\n",
      "5/5 [==============================] - 0s 14ms/step - loss: 0.0173 - binary_accuracy: 1.0000 - val_loss: 0.0196 - val_binary_accuracy: 1.0000\n",
      "Epoch 65/100\n",
      "5/5 [==============================] - 0s 13ms/step - loss: 0.0168 - binary_accuracy: 1.0000 - val_loss: 0.0191 - val_binary_accuracy: 1.0000\n",
      "Epoch 66/100\n",
      "5/5 [==============================] - 0s 14ms/step - loss: 0.0163 - binary_accuracy: 1.0000 - val_loss: 0.0187 - val_binary_accuracy: 1.0000\n",
      "Epoch 67/100\n",
      "5/5 [==============================] - 0s 14ms/step - loss: 0.0159 - binary_accuracy: 1.0000 - val_loss: 0.0182 - val_binary_accuracy: 1.0000\n",
      "Epoch 68/100\n",
      "5/5 [==============================] - 0s 14ms/step - loss: 0.0155 - binary_accuracy: 1.0000 - val_loss: 0.0177 - val_binary_accuracy: 1.0000\n",
      "Epoch 69/100\n",
      "5/5 [==============================] - 0s 14ms/step - loss: 0.0151 - binary_accuracy: 1.0000 - val_loss: 0.0173 - val_binary_accuracy: 1.0000\n",
      "Epoch 70/100\n",
      "5/5 [==============================] - 0s 14ms/step - loss: 0.0148 - binary_accuracy: 1.0000 - val_loss: 0.0168 - val_binary_accuracy: 1.0000\n",
      "Epoch 71/100\n",
      "5/5 [==============================] - 0s 14ms/step - loss: 0.0144 - binary_accuracy: 1.0000 - val_loss: 0.0164 - val_binary_accuracy: 1.0000\n",
      "Epoch 72/100\n",
      "5/5 [==============================] - 0s 15ms/step - loss: 0.0140 - binary_accuracy: 1.0000 - val_loss: 0.0160 - val_binary_accuracy: 1.0000\n",
      "Epoch 73/100\n",
      "5/5 [==============================] - 0s 16ms/step - loss: 0.0137 - binary_accuracy: 1.0000 - val_loss: 0.0156 - val_binary_accuracy: 1.0000\n",
      "Epoch 74/100\n",
      "5/5 [==============================] - 0s 14ms/step - loss: 0.0134 - binary_accuracy: 1.0000 - val_loss: 0.0152 - val_binary_accuracy: 1.0000\n",
      "Epoch 75/100\n",
      "5/5 [==============================] - 0s 13ms/step - loss: 0.0130 - binary_accuracy: 1.0000 - val_loss: 0.0148 - val_binary_accuracy: 1.0000\n",
      "Epoch 76/100\n",
      "5/5 [==============================] - 0s 14ms/step - loss: 0.0128 - binary_accuracy: 1.0000 - val_loss: 0.0144 - val_binary_accuracy: 1.0000\n",
      "Epoch 77/100\n",
      "5/5 [==============================] - 0s 13ms/step - loss: 0.0125 - binary_accuracy: 1.0000 - val_loss: 0.0141 - val_binary_accuracy: 1.0000\n",
      "Epoch 78/100\n",
      "5/5 [==============================] - 0s 13ms/step - loss: 0.0122 - binary_accuracy: 1.0000 - val_loss: 0.0138 - val_binary_accuracy: 1.0000\n",
      "Epoch 79/100\n",
      "5/5 [==============================] - 0s 14ms/step - loss: 0.0119 - binary_accuracy: 1.0000 - val_loss: 0.0135 - val_binary_accuracy: 1.0000\n",
      "Epoch 80/100\n",
      "5/5 [==============================] - 0s 15ms/step - loss: 0.0117 - binary_accuracy: 1.0000 - val_loss: 0.0132 - val_binary_accuracy: 1.0000\n",
      "Epoch 81/100\n",
      "5/5 [==============================] - 0s 14ms/step - loss: 0.0114 - binary_accuracy: 1.0000 - val_loss: 0.0129 - val_binary_accuracy: 1.0000\n",
      "Epoch 82/100\n",
      "5/5 [==============================] - 0s 14ms/step - loss: 0.0112 - binary_accuracy: 1.0000 - val_loss: 0.0126 - val_binary_accuracy: 1.0000\n",
      "Epoch 83/100\n",
      "5/5 [==============================] - 0s 16ms/step - loss: 0.0109 - binary_accuracy: 1.0000 - val_loss: 0.0123 - val_binary_accuracy: 1.0000\n",
      "Epoch 84/100\n",
      "5/5 [==============================] - 0s 15ms/step - loss: 0.0107 - binary_accuracy: 1.0000 - val_loss: 0.0121 - val_binary_accuracy: 1.0000\n",
      "Epoch 85/100\n",
      "5/5 [==============================] - 0s 15ms/step - loss: 0.0105 - binary_accuracy: 1.0000 - val_loss: 0.0118 - val_binary_accuracy: 1.0000\n",
      "Epoch 86/100\n",
      "5/5 [==============================] - 0s 14ms/step - loss: 0.0103 - binary_accuracy: 1.0000 - val_loss: 0.0116 - val_binary_accuracy: 1.0000\n",
      "Epoch 87/100\n",
      "5/5 [==============================] - 0s 14ms/step - loss: 0.0101 - binary_accuracy: 1.0000 - val_loss: 0.0114 - val_binary_accuracy: 1.0000\n",
      "Epoch 88/100\n",
      "5/5 [==============================] - 0s 14ms/step - loss: 0.0099 - binary_accuracy: 1.0000 - val_loss: 0.0112 - val_binary_accuracy: 1.0000\n",
      "Epoch 89/100\n",
      "5/5 [==============================] - 0s 15ms/step - loss: 0.0097 - binary_accuracy: 1.0000 - val_loss: 0.0110 - val_binary_accuracy: 1.0000\n",
      "Epoch 90/100\n",
      "5/5 [==============================] - 0s 14ms/step - loss: 0.0095 - binary_accuracy: 1.0000 - val_loss: 0.0108 - val_binary_accuracy: 1.0000\n",
      "Epoch 91/100\n",
      "5/5 [==============================] - 0s 14ms/step - loss: 0.0094 - binary_accuracy: 1.0000 - val_loss: 0.0106 - val_binary_accuracy: 1.0000\n",
      "Epoch 92/100\n",
      "5/5 [==============================] - 0s 13ms/step - loss: 0.0092 - binary_accuracy: 1.0000 - val_loss: 0.0104 - val_binary_accuracy: 1.0000\n",
      "Epoch 93/100\n",
      "5/5 [==============================] - 0s 16ms/step - loss: 0.0090 - binary_accuracy: 1.0000 - val_loss: 0.0102 - val_binary_accuracy: 1.0000\n",
      "Epoch 94/100\n",
      "5/5 [==============================] - 0s 14ms/step - loss: 0.0089 - binary_accuracy: 1.0000 - val_loss: 0.0100 - val_binary_accuracy: 1.0000\n",
      "Epoch 95/100\n",
      "5/5 [==============================] - 0s 13ms/step - loss: 0.0087 - binary_accuracy: 1.0000 - val_loss: 0.0098 - val_binary_accuracy: 1.0000\n",
      "Epoch 96/100\n",
      "5/5 [==============================] - 0s 15ms/step - loss: 0.0086 - binary_accuracy: 1.0000 - val_loss: 0.0096 - val_binary_accuracy: 1.0000\n",
      "Epoch 97/100\n",
      "5/5 [==============================] - 0s 14ms/step - loss: 0.0084 - binary_accuracy: 1.0000 - val_loss: 0.0094 - val_binary_accuracy: 1.0000\n",
      "Epoch 98/100\n",
      "5/5 [==============================] - 0s 15ms/step - loss: 0.0083 - binary_accuracy: 1.0000 - val_loss: 0.0093 - val_binary_accuracy: 1.0000\n",
      "Epoch 99/100\n",
      "5/5 [==============================] - 0s 13ms/step - loss: 0.0081 - binary_accuracy: 1.0000 - val_loss: 0.0091 - val_binary_accuracy: 1.0000\n",
      "Epoch 100/100\n",
      "5/5 [==============================] - 0s 14ms/step - loss: 0.0080 - binary_accuracy: 1.0000 - val_loss: 0.0089 - val_binary_accuracy: 1.0000\n"
     ]
    }
   ],
   "source": [
    "trainHistory = model.fit(\n",
    "    X_train, Y_train,\n",
    "    batch_size=64,\n",
    "    epochs=100,\n",
    "    validation_data=(X_val, Y_val),\n",
    "    callbacks=callbacks\n",
    ")"
   ]
  },
  {
   "cell_type": "markdown",
   "metadata": {},
   "source": [
    "畫出訓練結果"
   ]
  },
  {
   "cell_type": "code",
   "execution_count": 34,
   "metadata": {
    "collapsed": false,
    "pycharm": {
     "name": "#%%\n"
    }
   },
   "outputs": [
    {
     "data": {
      "image/png": "[encoded data removed]",
      "text/plain": [
       "<Figure size 432x288 with 1 Axes>"
      ]
     },
     "metadata": {
      "needs_background": "light"
     },
     "output_type": "display_data"
    }
   ],
   "source": [
    "plt.plot(trainHistory.history['loss'], color='r', label='loss')\n",
    "plt.plot(trainHistory.history['val_loss'], color='b', label='val_loss')\n",
    "plt.legend()\n",
    "plt.show()"
   ]
  },
  {
   "cell_type": "code",
   "execution_count": 35,
   "metadata": {},
   "outputs": [
    {
     "data": {
      "image/png": "[encoded data removed]",
      "text/plain": [
       "<Figure size 432x288 with 1 Axes>"
      ]
     },
     "metadata": {
      "needs_background": "light"
     },
     "output_type": "display_data"
    }
   ],
   "source": [
    "plt.plot(trainHistory.history['binary_accuracy'], color='r', label='binary_accuracy')\n",
    "plt.plot(trainHistory.history['val_binary_accuracy'], color='b', label='val_binary_accuracy')\n",
    "plt.legend()\n",
    "plt.show()"
   ]
  },
  {
   "cell_type": "markdown",
   "metadata": {
    "collapsed": false
   },
   "source": [
    "# 測試結果"
   ]
  },
  {
   "cell_type": "markdown",
   "metadata": {},
   "source": [
    "載入最佳模型"
   ]
  },
  {
   "cell_type": "code",
   "execution_count": 25,
   "metadata": {},
   "outputs": [],
   "source": [
    "best_model = load_model(\"model.h5\")"
   ]
  },
  {
   "cell_type": "markdown",
   "metadata": {},
   "source": [
    "模型驗證"
   ]
  },
  {
   "cell_type": "code",
   "execution_count": 26,
   "metadata": {},
   "outputs": [
    {
     "name": "stdout",
     "output_type": "stream",
     "text": [
      "4/4 [==============================] - 0s 4ms/step - loss: 0.0072 - binary_accuracy: 1.0000\n",
      "Loss = 0.007184217683970928, ACC = 100.0%\n"
     ]
    }
   ],
   "source": [
    "result = best_model.evaluate(X_test, Y_test)\n",
    "print(f\"Loss = {result[0]}, ACC = {result[1] * 100}%\")"
   ]
  },
  {
   "cell_type": "markdown",
   "metadata": {},
   "source": [
    "模型預測"
   ]
  },
  {
   "cell_type": "code",
   "execution_count": 27,
   "metadata": {},
   "outputs": [],
   "source": [
    "predict = best_model.predict(X_test)\n",
    "Y_pred = (predict >= 0.5)"
   ]
  },
  {
   "cell_type": "markdown",
   "metadata": {},
   "source": [
    "畫出混淆矩陣"
   ]
  },
  {
   "cell_type": "code",
   "execution_count": 28,
   "metadata": {},
   "outputs": [
    {
     "data": {
      "image/png": "[encoded data removed]",
      "text/plain": [
       "<Figure size 432x288 with 2 Axes>"
      ]
     },
     "metadata": {
      "needs_background": "light"
     },
     "output_type": "display_data"
    }
   ],
   "source": [
    "utils.plot_confusion_matrix(Y_test, Y_pred, 2)"
   ]
  },
  {
   "cell_type": "markdown",
   "metadata": {},
   "source": [
    "# 實際應用"
   ]
  },
  {
   "cell_type": "markdown",
   "metadata": {},
   "source": [
    "自行設計模型預測API"
   ]
  },
  {
   "cell_type": "code",
   "execution_count": 29,
   "metadata": {},
   "outputs": [],
   "source": [
    "def run_model(data):\n",
    "    input_data = np.array([\n",
    "        data[\"chinese\"],\n",
    "        data[\"english\"],\n",
    "        data[\"math\"],\n",
    "        data[\"nature\"],\n",
    "        data[\"society\"],\n",
    "        data[\"physics\"]\n",
    "    ])\n",
    "    input_data = input_data / 100\n",
    "    input_data = input_data[np.newaxis, :]\n",
    "    predict = model.predict(input_data)\n",
    "    output_data = {\n",
    "        \"literature\" : 1 - predict[0][0],\n",
    "        \"science\" : predict[0][0]\n",
    "    }\n",
    "    return output_data"
   ]
  },
  {
   "cell_type": "markdown",
   "metadata": {},
   "source": [
    "使用範例"
   ]
  },
  {
   "cell_type": "code",
   "execution_count": 36,
   "metadata": {},
   "outputs": [
    {
     "name": "stdout",
     "output_type": "stream",
     "text": [
      "79% is Literature\n",
      "20% is Science\n"
     ]
    }
   ],
   "source": [
    "input_data = {\n",
    "    \"chinese\" : 50,\n",
    "    \"english\" : 60,\n",
    "    \"math\" : 80,\n",
    "    \"nature\" : 50,\n",
    "    \"society\" : 50,\n",
    "    \"physics\" : 50\n",
    "}\n",
    "\n",
    "result = run_model(input_data)\n",
    "\n",
    "print(f\"{int(result['literature'] * 100)}% is Literature\")\n",
    "print(f\"{int(result['science'] * 100)}% is Science\")"
   ]
  }
 ],
 "metadata": {
  "interpreter": {
   "hash": "5a1af232b417dd52ac5e484eceb9b15881c591b30356e01b51a9e4e51b5e3b8d"
  },
  "kernelspec": {
   "display_name": "Python 3.9.12 ('tf26')",
   "language": "python",
   "name": "python3"
  },
  "language_info": {
   "codemirror_mode": {
    "name": "ipython",
    "version": 3
   },
   "file_extension": ".py",
   "mimetype": "text/x-python",
   "name": "python",
   "nbconvert_exporter": "python",
   "pygments_lexer": "ipython3",
   "version": "3.9.12"
  }
 },
 "nbformat": 4,
 "nbformat_minor": 0
}
